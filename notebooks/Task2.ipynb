{
 "cells": [
  {
   "cell_type": "code",
   "execution_count": 2,
   "id": "a4acc7fc-e19a-41aa-b1e9-e2f88d05904e",
   "metadata": {},
   "outputs": [
    {
     "ename": "ModuleNotFoundError",
     "evalue": "No module named 'talib'",
     "output_type": "error",
     "traceback": [
      "\u001b[1;31m---------------------------------------------------------------------------\u001b[0m",
      "\u001b[1;31mModuleNotFoundError\u001b[0m                       Traceback (most recent call last)",
      "Cell \u001b[1;32mIn[2], line 4\u001b[0m\n\u001b[0;32m      2\u001b[0m \u001b[38;5;28;01mimport\u001b[39;00m \u001b[38;5;21;01mmatplotlib\u001b[39;00m\u001b[38;5;21;01m.\u001b[39;00m\u001b[38;5;21;01mpyplot\u001b[39;00m \u001b[38;5;28;01mas\u001b[39;00m \u001b[38;5;21;01mplt\u001b[39;00m\n\u001b[0;32m      3\u001b[0m \u001b[38;5;28;01mimport\u001b[39;00m \u001b[38;5;21;01mseaborn\u001b[39;00m \u001b[38;5;28;01mas\u001b[39;00m \u001b[38;5;21;01msns\u001b[39;00m\n\u001b[1;32m----> 4\u001b[0m \u001b[38;5;28;01mimport\u001b[39;00m \u001b[38;5;21;01mtalib\u001b[39;00m\n\u001b[0;32m      5\u001b[0m \u001b[38;5;28;01mimport\u001b[39;00m \u001b[38;5;21;01mos\u001b[39;00m\n\u001b[0;32m      7\u001b[0m \u001b[38;5;28;01mimport\u001b[39;00m \u001b[38;5;21;01mwarnings\u001b[39;00m\n",
      "\u001b[1;31mModuleNotFoundError\u001b[0m: No module named 'talib'"
     ]
    }
   ],
   "source": [
    "import pandas as pd\n",
    "import matplotlib.pyplot as plt\n",
    "import seaborn as sns\n",
    "import talib\n",
    "import os\n",
    "\n",
    "import warnings\n",
    "warnings.filterwarnings('ignore')\n",
    "\n",
    "def analyze_stock(filepath, ticker=None, output_dir=\"output/task2\", show=True):\n",
    "    \"\"\"\n",
    "    Load stock data from Excel, calculate TA indicators, and save plots.\n",
    "    \n",
    "    Parameters:\n",
    "    - filepath: Path to the Excel file\n",
    "    - ticker: Stock symbol (used in plot titles). If None, inferred from filename\n",
    "    - output_dir: Where to save plots\n",
    "    - show: Whether to show plots\n",
    "    \"\"\"\n",
    "    os.makedirs(output_dir, exist_ok=True)\n",
    "\n",
    "    # Load Excel file\n",
    "    df = pd.read_excel(filepath)\n",
    "    df.drop(columns=['Dividends', 'Stock Splits'], inplace=True, errors='ignore')\n",
    "    df['Date'] = pd.to_datetime(df['Date'])\n",
    "    df.set_index('Date', inplace=True)\n",
    "    df.sort_index(inplace=True)\n",
    "\n",
    "    # Set ticker name\n",
    "    if not ticker:\n",
    "        ticker = os.path.basename(filepath).split(\"_\")[0]\n",
    "\n",
    "    # Calculate Indicators\n",
    "    df['SMA_20'] = talib.SMA(df['Close'], timeperiod=20)\n",
    "    df['RSI_14'] = talib.RSI(df['Close'], timeperiod=14)\n",
    "    df['MACD'], df['MACD_signal'], df['MACD_hist'] = talib.MACD(df['Close'])\n",
    "\n",
    "    # Save processed data\n",
    "    df.to_csv(f\"{output_dir}/{ticker}_with_indicators.csv\")\n",
    "\n",
    "    # --- PLOTS ---\n",
    "    # 1. Close Price + SMA\n",
    "    plt.figure(figsize=(12, 6))\n",
    "    plt.plot(df['Close'], label='Close Price', color='black')\n",
    "    plt.plot(df['SMA_20'], label='SMA 20', color='blue')\n",
    "    plt.title(f\"{ticker} Close Price & 20-Day SMA\")\n",
    "    plt.legend()\n",
    "    plt.tight_layout()\n",
    "    plt.savefig(f\"{output_dir}/{ticker}_sma.png\")\n",
    "    if show: plt.show(); plt.close()\n",
    "\n",
    "    # 2. RSI\n",
    "    plt.figure(figsize=(12, 4))\n",
    "    plt.plot(df['RSI_14'], color='purple')\n",
    "    plt.axhline(70, color='red', linestyle='--')\n",
    "    plt.axhline(30, color='green', linestyle='--')\n",
    "    plt.title(f\"{ticker} RSI (14)\")\n",
    "    plt.tight_layout()\n",
    "    plt.savefig(f\"{output_dir}/{ticker}_rsi.png\")\n",
    "    if show: plt.show(); plt.close()\n",
    "\n",
    "    # 3. MACD\n",
    "    plt.figure(figsize=(12, 4))\n",
    "    plt.plot(df['MACD'], label='MACD', color='navy')\n",
    "    plt.plot(df['MACD_signal'], label='Signal Line', color='orange')\n",
    "    plt.title(f\"{ticker} MACD\")\n",
    "    plt.legend()\n",
    "    plt.tight_layout()\n",
    "    plt.savefig(f\"{output_dir}/{ticker}_macd.png\")\n",
    "    if show: plt.show(); plt.close()\n",
    "\n",
    "    print(f\"✅ Processed and saved plots for {ticker}.\")\n",
    "\n",
    "# Example usage:\n",
    "analyze_stock(\"../data/yfinance_data/AAPL_historical_data.xlsx\")\n"
   ]
  },
  {
   "cell_type": "code",
   "execution_count": 4,
   "id": "0d075b5e-f675-483b-9ca5-0207cb1cc1c3",
   "metadata": {},
   "outputs": [
    {
     "name": "stdout",
     "output_type": "stream",
     "text": [
      "Defaulting to user installation because normal site-packages is not writeable\n"
     ]
    },
    {
     "name": "stderr",
     "output_type": "stream",
     "text": [
      "WARNING: Requirement 'TA_Lib\\u20110.4.0\\u2011cp310\\u2011cp310\\u2011win_amd64.whl' looks like a filename, but the file does not exist\n",
      "ERROR: TA_Lib\\u20110.4.0\\u2011cp310\\u2011cp310\\u2011win_amd64.whl is not a valid wheel filename.\n"
     ]
    }
   ],
   "source": [
    "!pip install TA_Lib‑0.4.0‑cp310‑cp310‑win_amd64.whl"
   ]
  },
  {
   "cell_type": "code",
   "execution_count": null,
   "id": "69e20255-008f-4531-a994-776f501f48ac",
   "metadata": {},
   "outputs": [],
   "source": [
    "  "
   ]
  }
 ],
 "metadata": {
  "kernelspec": {
   "display_name": "Python 3 (ipykernel)",
   "language": "python",
   "name": "python3"
  },
  "language_info": {
   "codemirror_mode": {
    "name": "ipython",
    "version": 3
   },
   "file_extension": ".py",
   "mimetype": "text/x-python",
   "name": "python",
   "nbconvert_exporter": "python",
   "pygments_lexer": "ipython3",
   "version": "3.12.7"
  }
 },
 "nbformat": 4,
 "nbformat_minor": 5
}
